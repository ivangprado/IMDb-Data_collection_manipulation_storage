{
 "cells": [
  {
   "cell_type": "markdown",
   "metadata": {},
   "source": [
    "\n",
    "<br><br><br>\n",
    "<h2><font color=\"#AD0B0B\" size=6>Movie search engine: Data collection, manipulation and storage from IMDB and TMDB</font></h2>\n",
    "\n",
    "\n",
    "\n",
    "<br><br>\n",
    "<div style=\"text-align: right\">\n",
    "\n",
    "\n",
    "</div>"
   ]
  },
  {
   "cell_type": "markdown",
   "metadata": {},
   "source": [
    "I will work with various movie data sources and extract information using different techniques:\n",
    "\n",
    "- IMDB: The famous movie database website, where I will extract data from a clone using web scraping.\n",
    "- IMDB: I will also work with its data dumps to carry out a process of merging information.\n",
    "- TMDB: I will utilize this popular API to extract information that complements the previous data.\n",
    "\n",
    "Finally, I will integrate part of the information into a MongoDB database, which will enable me to implement a movie search engine."
   ]
  },
  {
   "cell_type": "markdown",
   "metadata": {},
   "source": [
    "## <font color=\"#AD0B0B\"> IMDB´s movie list  </font>\n",
    "<br>\n",
    "\n",
    "_Internet Movie Database ( [IMDb](http://www.imdb.com) )_ is one of the reference sites for movies and series on the Internet. Among other things, it stores information about casts, plots, budgets, etc. In addition, it contains numerous ratings and reviews provided by users. All this information is potentially accessible and recoverable automatically through __scraping__, although __IMDb expressly prohibits this type of access__, unless authorized."
   ]
  },
  {
   "cell_type": "markdown",
   "metadata": {},
   "source": [
    "### <font color=\"#AD0B0B\">Web scraping of IMDB´s dump. </font>\n",
    "<br>\n",
    "\n",
    "Due to the impossibility of obtaining authorization for such projects, I will work with a small IMDb *dump* available at http://c3-capstone2.jialonso.com. This *dump* contains the top 10 highest-rated movies on IMDb and is a reduced version of the list of the top 250 movies available at https://www.imdb.com/chart/top.\n",
    "\n",
    "First, let's import the libraries I will use for web scraping."
   ]
  },
  {
   "cell_type": "code",
   "execution_count": 1,
   "metadata": {},
   "outputs": [],
   "source": [
    "import requests\n",
    "import re\n",
    "from bs4 import BeautifulSoup\n",
    "import pandas as pd"
   ]
  },
  {
   "cell_type": "markdown",
   "metadata": {},
   "source": [
    "The home page contains the list of movies and the link to each of their individual pages. The first thing I am going to do is to obtain a list with all the links."
   ]
  },
  {
   "cell_type": "code",
   "execution_count": 2,
   "metadata": {},
   "outputs": [
    {
     "name": "stdout",
     "output_type": "stream",
     "text": [
      "['http://c3-capstone2.jialonso.com/tt0111161.html', 'http://c3-capstone2.jialonso.com/tt0068646.html', 'http://c3-capstone2.jialonso.com/tt0071562.html', 'http://c3-capstone2.jialonso.com/tt0468569.html', 'http://c3-capstone2.jialonso.com/tt0050083.html', 'http://c3-capstone2.jialonso.com/tt0108052.html', 'http://c3-capstone2.jialonso.com/tt0167260.html', 'http://c3-capstone2.jialonso.com/tt0110912.html', 'http://c3-capstone2.jialonso.com/tt0060196.html', 'http://c3-capstone2.jialonso.com/tt0137523.html']\n"
     ]
    }
   ],
   "source": [
    "def get_links(url):\n",
    "    res = requests.get(url)\n",
    "    soup = BeautifulSoup(res.content)\n",
    "    \n",
    "    match = re.search('(https?://.+?)/', url)\n",
    "    if match:\n",
    "        base_url = match.group(1)\n",
    "    else:\n",
    "        base_url = url\n",
    "        \n",
    "    link_tags = soup.select('td.titleColumn a')\n",
    "    return [f'{base_url}{a_tag.get(\"href\")}' for a_tag in link_tags]\n",
    "    \n",
    "links = get_links('http://c3-capstone2.jialonso.com')\n",
    "print(links)"
   ]
  },
  {
   "cell_type": "markdown",
   "metadata": {},
   "source": [
    "The next step is to obtain the basic information of each movie. For each of them I want to obtain a dictionary with the following format:\n",
    "\n",
    "    {\n",
    "        'id': 'tt0068646',\n",
    "        'title': {\n",
    "            'primary': 'El padrino',\n",
    "            'original': 'The Godfather'\n",
    "        },\n",
    "        'year': 1972,\n",
    "        'genres': ['Crime', 'Drama'],\n",
    "        'runtimeMinutes': 175\n",
    "    }\n",
    "    \n",
    "This information can be obtained from the movie header on the web, as shown in the following image:\n",
    "\n",
    "<a id=\"inicio\"></a>\n",
    "<img src=\"img/el_padrino.png\" alt=\"El padrino webscraping\">"
   ]
  },
  {
   "cell_type": "markdown",
   "metadata": {},
   "source": [
    "This is a function called `duration_string_to_minutes`, which transforms strings of type `Xh YYmin' (eg 2h 24min) into duration in minutes (eg 144). To do this, I use a **regular expression** that detects the number of minutes and hours in the string. For simplicity, it can be assumed that the minimum duration of the movies is 1 hour."
   ]
  },
  {
   "cell_type": "code",
   "execution_count": 3,
   "metadata": {},
   "outputs": [],
   "source": [
    "def duration_string_to_minutes(duration):\n",
    "    \"\"\"\n",
    "    Converts the string duration to the integer minutes.\n",
    "    For example: duration_string_to_minutes(\"1h 37m\") = 97\n",
    "    \"\"\"\n",
    "    match = re.findall(r'\\d+', duration)\n",
    "    if len(match)>1:\n",
    "        return int(match[0])*60+int(match[1])\n",
    "    else:\n",
    "        return int(match[0])*60"
   ]
  },
  {
   "cell_type": "code",
   "execution_count": 4,
   "metadata": {},
   "outputs": [],
   "source": [
    "assert duration_string_to_minutes('2h 30min') == 150\n",
    "assert duration_string_to_minutes('2h') == 120"
   ]
  },
  {
   "cell_type": "markdown",
   "metadata": {},
   "source": [
    "I create the `get_movie_info` function that given the url of a movie in the IMDB *dump* gets the id, primary and original title, year, genre(s) and duration. The returned result will be a dictionary with the format presented above."
   ]
  },
  {
   "cell_type": "code",
   "execution_count": 5,
   "metadata": {},
   "outputs": [],
   "source": [
    "def get_movie_info(url):\n",
    "   \n",
    "    res = requests.get(url)\n",
    "    soup = BeautifulSoup(res.content)\n",
    "    genres=[]\n",
    "            \n",
    "    _id = url.split('/')[-1].split('.')[0]\n",
    "    title_wrapper = soup.select_one('div.title_wrapper')\n",
    "    \n",
    "    title_primary_tag = title_wrapper.select_one('h1') \n",
    "    title_original_tag = title_wrapper.select_one('div.originalTitle')\n",
    "    year_tag = title_wrapper.select_one('h1 a')\n",
    "    genres_tags = title_wrapper.find_all('a', href=re.compile(r'.*genre*'))\n",
    "    runtime_tag = title_wrapper.select_one('div.subtext time')\n",
    "    for genre in genres_tags: genres.append(genre.text)\n",
    "            \n",
    "    return {\n",
    "        'id': _id,\n",
    "        'title': {\n",
    "            'primary': re.split(r\"\\xa0\", str(title_primary_tag.contents[0]))[0], \n",
    "            'original': title_original_tag.contents[0] if title_original_tag != None else re.split(r\"\\xa0\", str(title_primary_tag.contents[0]))[0]\n",
    "        },\n",
    "        'year': year_tag.text,\n",
    "        'genres': genres,\n",
    "        'runtimeMinutes': duration_string_to_minutes(str(runtime_tag.text))\n",
    "    }\n"
   ]
  },
  {
   "cell_type": "code",
   "execution_count": 6,
   "metadata": {},
   "outputs": [
    {
     "name": "stdout",
     "output_type": "stream",
     "text": [
      "[{'id': 'tt0111161', 'title': {'primary': 'Cadena perpetua', 'original': 'The Shawshank Redemption'}, 'year': '1994', 'genres': ['Drama'], 'runtimeMinutes': 142}, {'id': 'tt0068646', 'title': {'primary': 'El padrino', 'original': 'The Godfather'}, 'year': '1972', 'genres': ['Crime', 'Drama'], 'runtimeMinutes': 175}, {'id': 'tt0071562', 'title': {'primary': 'El padrino: Parte II', 'original': 'The Godfather: Part II'}, 'year': '1974', 'genres': ['Crime', 'Drama'], 'runtimeMinutes': 202}, {'id': 'tt0468569', 'title': {'primary': 'El caballero oscuro', 'original': 'The Dark Knight'}, 'year': '2008', 'genres': ['Action', 'Crime', 'Drama'], 'runtimeMinutes': 152}, {'id': 'tt0050083', 'title': {'primary': '12 hombres sin piedad', 'original': '12 Angry Men'}, 'year': '1957', 'genres': ['Drama'], 'runtimeMinutes': 96}, {'id': 'tt0108052', 'title': {'primary': 'La lista de Schindler', 'original': \"Schindler's List\"}, 'year': '1993', 'genres': ['Biography', 'Drama', 'History'], 'runtimeMinutes': 195}, {'id': 'tt0167260', 'title': {'primary': 'El señor de los anillos: El retorno del rey', 'original': 'The Lord of the Rings: The Return of the King'}, 'year': '2003', 'genres': ['Adventure', 'Drama', 'Fantasy'], 'runtimeMinutes': 201}, {'id': 'tt0110912', 'title': {'primary': 'Pulp Fiction', 'original': 'Pulp Fiction'}, 'year': '1994', 'genres': ['Crime', 'Drama'], 'runtimeMinutes': 154}, {'id': 'tt0060196', 'title': {'primary': 'El bueno, el feo y el malo', 'original': 'Il buono, il brutto, il cattivo'}, 'year': '1966', 'genres': ['Western'], 'runtimeMinutes': 182}, {'id': 'tt0137523', 'title': {'primary': 'El club de la lucha', 'original': 'Fight Club'}, 'year': '1999', 'genres': ['Drama'], 'runtimeMinutes': 139}]\n"
     ]
    }
   ],
   "source": [
    "data = [get_movie_info(link) for link in links]\n",
    "print(data)"
   ]
  },
  {
   "cell_type": "code",
   "execution_count": 7,
   "metadata": {},
   "outputs": [],
   "source": [
    "assert data[1][\"runtimeMinutes\"] == 175\n",
    "assert data[7][\"title\"][\"original\"] == \"Pulp Fiction\""
   ]
  },
  {
   "cell_type": "markdown",
   "metadata": {},
   "source": [
    "The `data` object, in dictionary list format, can be imported into a pandas dataframe using the `json_normalize` method."
   ]
  },
  {
   "cell_type": "code",
   "execution_count": 8,
   "metadata": {},
   "outputs": [
    {
     "data": {
      "text/html": [
       "<div>\n",
       "<style scoped>\n",
       "    .dataframe tbody tr th:only-of-type {\n",
       "        vertical-align: middle;\n",
       "    }\n",
       "\n",
       "    .dataframe tbody tr th {\n",
       "        vertical-align: top;\n",
       "    }\n",
       "\n",
       "    .dataframe thead th {\n",
       "        text-align: right;\n",
       "    }\n",
       "</style>\n",
       "<table border=\"1\" class=\"dataframe\">\n",
       "  <thead>\n",
       "    <tr style=\"text-align: right;\">\n",
       "      <th></th>\n",
       "      <th>year</th>\n",
       "      <th>genres</th>\n",
       "      <th>runtimeMinutes</th>\n",
       "      <th>title.primary</th>\n",
       "      <th>title.original</th>\n",
       "    </tr>\n",
       "    <tr>\n",
       "      <th>id</th>\n",
       "      <th></th>\n",
       "      <th></th>\n",
       "      <th></th>\n",
       "      <th></th>\n",
       "      <th></th>\n",
       "    </tr>\n",
       "  </thead>\n",
       "  <tbody>\n",
       "    <tr>\n",
       "      <th>tt0111161</th>\n",
       "      <td>1994</td>\n",
       "      <td>[Drama]</td>\n",
       "      <td>142</td>\n",
       "      <td>Cadena perpetua</td>\n",
       "      <td>The Shawshank Redemption</td>\n",
       "    </tr>\n",
       "    <tr>\n",
       "      <th>tt0068646</th>\n",
       "      <td>1972</td>\n",
       "      <td>[Crime, Drama]</td>\n",
       "      <td>175</td>\n",
       "      <td>El padrino</td>\n",
       "      <td>The Godfather</td>\n",
       "    </tr>\n",
       "    <tr>\n",
       "      <th>tt0071562</th>\n",
       "      <td>1974</td>\n",
       "      <td>[Crime, Drama]</td>\n",
       "      <td>202</td>\n",
       "      <td>El padrino: Parte II</td>\n",
       "      <td>The Godfather: Part II</td>\n",
       "    </tr>\n",
       "    <tr>\n",
       "      <th>tt0468569</th>\n",
       "      <td>2008</td>\n",
       "      <td>[Action, Crime, Drama]</td>\n",
       "      <td>152</td>\n",
       "      <td>El caballero oscuro</td>\n",
       "      <td>The Dark Knight</td>\n",
       "    </tr>\n",
       "    <tr>\n",
       "      <th>tt0050083</th>\n",
       "      <td>1957</td>\n",
       "      <td>[Drama]</td>\n",
       "      <td>96</td>\n",
       "      <td>12 hombres sin piedad</td>\n",
       "      <td>12 Angry Men</td>\n",
       "    </tr>\n",
       "  </tbody>\n",
       "</table>\n",
       "</div>"
      ],
      "text/plain": [
       "           year                  genres  runtimeMinutes  \\\n",
       "id                                                        \n",
       "tt0111161  1994                 [Drama]             142   \n",
       "tt0068646  1972          [Crime, Drama]             175   \n",
       "tt0071562  1974          [Crime, Drama]             202   \n",
       "tt0468569  2008  [Action, Crime, Drama]             152   \n",
       "tt0050083  1957                 [Drama]              96   \n",
       "\n",
       "                   title.primary            title.original  \n",
       "id                                                          \n",
       "tt0111161        Cadena perpetua  The Shawshank Redemption  \n",
       "tt0068646             El padrino             The Godfather  \n",
       "tt0071562   El padrino: Parte II    The Godfather: Part II  \n",
       "tt0468569    El caballero oscuro           The Dark Knight  \n",
       "tt0050083  12 hombres sin piedad              12 Angry Men  "
      ]
     },
     "execution_count": 8,
     "metadata": {},
     "output_type": "execute_result"
    }
   ],
   "source": [
    "from pandas import json_normalize\n",
    "\n",
    "df_webscraping = json_normalize(data)\n",
    "df_webscraping.set_index('id', inplace=True)\n",
    "df_webscraping.head()"
   ]
  },
  {
   "cell_type": "markdown",
   "metadata": {},
   "source": [
    "\n",
    "\n",
    "### <font color=\"#AD0B0B\"> Complete list of IMDB movies. </font>\n",
    "<br>"
   ]
  },
  {
   "cell_type": "markdown",
   "metadata": {},
   "source": [
    "In the previous section, the web scraping process, although it is possible, is very slow and I do not have a complete *dump* of IMDB. For this reason I will use a file with the basic data of more than 400,000 films. This archive contains films after the year 1927, that is, the year in which the first film projection with sound took place.\n",
    "\n",
    "The file is a *zip* file that contains a json file for each year, between 1928 and 2019. Each of these files has the same structure as the `data` object obtained in the previous section.\n",
    "\n",
    "I can download and unzip the *zip* file directly from python:"
   ]
  },
  {
   "cell_type": "code",
   "execution_count": 68,
   "metadata": {},
   "outputs": [],
   "source": [
    "import io\n",
    "import json\n",
    "import os\n",
    "import zipfile\n",
    "\n",
    "if not os.path.exists('data/imdb/movies/'):\n",
    "    url = 'http://c3-capstone2.jialonso.com/data/movies-json.zip'\n",
    "    res = requests.get(url)\n",
    "    obj = io.BytesIO(res.content)\n",
    "\n",
    "    with zipfile.ZipFile(obj) as zip_ref:\n",
    "        zip_ref.extractall('data/imdb/movies/')"
   ]
  },
  {
   "cell_type": "markdown",
   "metadata": {},
   "source": [
    "The next step is to read these JSON files and create a single dataframe with the information of all the movies."
   ]
  },
  {
   "cell_type": "code",
   "execution_count": 10,
   "metadata": {},
   "outputs": [],
   "source": [
    "def get_basics_df():\n",
    "    \"\"\"\n",
    "    This method returns a dataframe with the data of all the movies contained in the file\n",
    "    movies-json.zip\n",
    "    \"\"\"\n",
    "    path = 'data/imdb/movies/'\n",
    "    df = pd.DataFrame()\n",
    "    json_files = [pos_json for pos_json in os.listdir(path) if pos_json.endswith('.json')]\n",
    "    for file in json_files:\n",
    "        df_file = pd.read_json(path+file).to_dict(orient=\"records\")\n",
    "        df_file = json_normalize(df_file)\n",
    "        df=pd.concat([df, df_file])\n",
    "    df.set_index('id', inplace=True)\n",
    "    return df"
   ]
  },
  {
   "cell_type": "code",
   "execution_count": 11,
   "metadata": {},
   "outputs": [
    {
     "data": {
      "text/html": [
       "<div>\n",
       "<style scoped>\n",
       "    .dataframe tbody tr th:only-of-type {\n",
       "        vertical-align: middle;\n",
       "    }\n",
       "\n",
       "    .dataframe tbody tr th {\n",
       "        vertical-align: top;\n",
       "    }\n",
       "\n",
       "    .dataframe thead th {\n",
       "        text-align: right;\n",
       "    }\n",
       "</style>\n",
       "<table border=\"1\" class=\"dataframe\">\n",
       "  <thead>\n",
       "    <tr style=\"text-align: right;\">\n",
       "      <th></th>\n",
       "      <th>year</th>\n",
       "      <th>runtimeMinutes</th>\n",
       "      <th>genres</th>\n",
       "      <th>title.original</th>\n",
       "      <th>title.primary</th>\n",
       "    </tr>\n",
       "    <tr>\n",
       "      <th>id</th>\n",
       "      <th></th>\n",
       "      <th></th>\n",
       "      <th></th>\n",
       "      <th></th>\n",
       "      <th></th>\n",
       "    </tr>\n",
       "  </thead>\n",
       "  <tbody>\n",
       "    <tr>\n",
       "      <th>tt0011715</th>\n",
       "      <td>1928</td>\n",
       "      <td>NaN</td>\n",
       "      <td>[Drama, Romance]</td>\n",
       "      <td>Sol de gloria</td>\n",
       "      <td>Sol de gloria</td>\n",
       "    </tr>\n",
       "    <tr>\n",
       "      <th>tt0016788</th>\n",
       "      <td>1928</td>\n",
       "      <td>NaN</td>\n",
       "      <td>None</td>\n",
       "      <td>O Diabo em Lisboa</td>\n",
       "      <td>O Diabo em Lisboa</td>\n",
       "    </tr>\n",
       "    <tr>\n",
       "      <th>tt0016970</th>\n",
       "      <td>1928</td>\n",
       "      <td>84.0</td>\n",
       "      <td>[Drama]</td>\n",
       "      <td>La hija del mestre</td>\n",
       "      <td>La hija del mestre</td>\n",
       "    </tr>\n",
       "    <tr>\n",
       "      <th>tt0017516</th>\n",
       "      <td>1928</td>\n",
       "      <td>NaN</td>\n",
       "      <td>None</td>\n",
       "      <td>Violantha</td>\n",
       "      <td>Violantha</td>\n",
       "    </tr>\n",
       "    <tr>\n",
       "      <th>tt0017621</th>\n",
       "      <td>1928</td>\n",
       "      <td>108.0</td>\n",
       "      <td>[Drama, Fantasy, Horror]</td>\n",
       "      <td>Alraune</td>\n",
       "      <td>A Daughter of Destiny</td>\n",
       "    </tr>\n",
       "  </tbody>\n",
       "</table>\n",
       "</div>"
      ],
      "text/plain": [
       "           year  runtimeMinutes                    genres      title.original  \\\n",
       "id                                                                              \n",
       "tt0011715  1928             NaN          [Drama, Romance]       Sol de gloria   \n",
       "tt0016788  1928             NaN                      None   O Diabo em Lisboa   \n",
       "tt0016970  1928            84.0                   [Drama]  La hija del mestre   \n",
       "tt0017516  1928             NaN                      None           Violantha   \n",
       "tt0017621  1928           108.0  [Drama, Fantasy, Horror]             Alraune   \n",
       "\n",
       "                   title.primary  \n",
       "id                                \n",
       "tt0011715          Sol de gloria  \n",
       "tt0016788      O Diabo em Lisboa  \n",
       "tt0016970     La hija del mestre  \n",
       "tt0017516              Violantha  \n",
       "tt0017621  A Daughter of Destiny  "
      ]
     },
     "execution_count": 11,
     "metadata": {},
     "output_type": "execute_result"
    }
   ],
   "source": [
    "df_basics = get_basics_df()\n",
    "df_basics.head()"
   ]
  },
  {
   "cell_type": "code",
   "execution_count": 12,
   "metadata": {},
   "outputs": [],
   "source": [
    "assert set(df_basics.columns) == {\"year\", \"runtimeMinutes\", \"genres\", \"title.original\", \"title.primary\"}\n",
    "assert len(df_basics) == 415633"
   ]
  },
  {
   "cell_type": "code",
   "execution_count": 13,
   "metadata": {},
   "outputs": [
    {
     "name": "stdout",
     "output_type": "stream",
     "text": [
      "<class 'pandas.core.frame.DataFrame'>\n",
      "Index: 415633 entries, tt0011715 to tt9363342\n",
      "Data columns (total 5 columns):\n",
      " #   Column          Non-Null Count   Dtype  \n",
      "---  ------          --------------   -----  \n",
      " 0   year            415633 non-null  int64  \n",
      " 1   runtimeMinutes  300940 non-null  float64\n",
      " 2   genres          358188 non-null  object \n",
      " 3   title.original  415633 non-null  object \n",
      " 4   title.primary   415633 non-null  object \n",
      "dtypes: float64(1), int64(1), object(3)\n",
      "memory usage: 19.0+ MB\n"
     ]
    }
   ],
   "source": [
    "df_basics.info()"
   ]
  },
  {
   "cell_type": "markdown",
   "metadata": {},
   "source": [
    "\n",
    "\n",
    "\n",
    "### <font color=\"#AD0B0B\"> Ratings file uploading </font>\n",
    "<br>\n",
    "\n",
    "_IMDB_ makes some updated datasets publicly available in `csv` format [(link)](https://datasets.imdbws.com). I will use the `title.ratings.gz` file that contains information about the ratings given to each movie. Also note the existence of the `title.basics.tsv.gz` file that contains information very similar to that provided in the previous section."
   ]
  },
  {
   "cell_type": "code",
   "execution_count": 14,
   "metadata": {},
   "outputs": [],
   "source": [
    "def get_df_ratings():\n",
    "    return pd.read_table('https://datasets.imdbws.com/title.ratings.tsv.gz', compression='gzip', index_col='tconst')"
   ]
  },
  {
   "cell_type": "code",
   "execution_count": 15,
   "metadata": {},
   "outputs": [
    {
     "data": {
      "text/html": [
       "<div>\n",
       "<style scoped>\n",
       "    .dataframe tbody tr th:only-of-type {\n",
       "        vertical-align: middle;\n",
       "    }\n",
       "\n",
       "    .dataframe tbody tr th {\n",
       "        vertical-align: top;\n",
       "    }\n",
       "\n",
       "    .dataframe thead th {\n",
       "        text-align: right;\n",
       "    }\n",
       "</style>\n",
       "<table border=\"1\" class=\"dataframe\">\n",
       "  <thead>\n",
       "    <tr style=\"text-align: right;\">\n",
       "      <th></th>\n",
       "      <th>averageRating</th>\n",
       "      <th>numVotes</th>\n",
       "    </tr>\n",
       "    <tr>\n",
       "      <th>tconst</th>\n",
       "      <th></th>\n",
       "      <th></th>\n",
       "    </tr>\n",
       "  </thead>\n",
       "  <tbody>\n",
       "    <tr>\n",
       "      <th>tt0000001</th>\n",
       "      <td>5.7</td>\n",
       "      <td>1989</td>\n",
       "    </tr>\n",
       "    <tr>\n",
       "      <th>tt0000002</th>\n",
       "      <td>5.8</td>\n",
       "      <td>265</td>\n",
       "    </tr>\n",
       "    <tr>\n",
       "      <th>tt0000003</th>\n",
       "      <td>6.5</td>\n",
       "      <td>1851</td>\n",
       "    </tr>\n",
       "    <tr>\n",
       "      <th>tt0000004</th>\n",
       "      <td>5.5</td>\n",
       "      <td>178</td>\n",
       "    </tr>\n",
       "    <tr>\n",
       "      <th>tt0000005</th>\n",
       "      <td>6.2</td>\n",
       "      <td>2635</td>\n",
       "    </tr>\n",
       "  </tbody>\n",
       "</table>\n",
       "</div>"
      ],
      "text/plain": [
       "           averageRating  numVotes\n",
       "tconst                            \n",
       "tt0000001            5.7      1989\n",
       "tt0000002            5.8       265\n",
       "tt0000003            6.5      1851\n",
       "tt0000004            5.5       178\n",
       "tt0000005            6.2      2635"
      ]
     },
     "execution_count": 15,
     "metadata": {},
     "output_type": "execute_result"
    }
   ],
   "source": [
    "df_ratings = get_df_ratings()\n",
    "df_ratings.head()"
   ]
  },
  {
   "cell_type": "code",
   "execution_count": 16,
   "metadata": {},
   "outputs": [],
   "source": [
    "assert set(df_ratings.columns) == {\"averageRating\", \"numVotes\"}"
   ]
  },
  {
   "cell_type": "code",
   "execution_count": 17,
   "metadata": {},
   "outputs": [
    {
     "name": "stdout",
     "output_type": "stream",
     "text": [
      "<class 'pandas.core.frame.DataFrame'>\n",
      "Index: 1334305 entries, tt0000001 to tt9916880\n",
      "Data columns (total 2 columns):\n",
      " #   Column         Non-Null Count    Dtype  \n",
      "---  ------         --------------    -----  \n",
      " 0   averageRating  1334305 non-null  float64\n",
      " 1   numVotes       1334305 non-null  int64  \n",
      "dtypes: float64(1), int64(1)\n",
      "memory usage: 30.5+ MB\n"
     ]
    }
   ],
   "source": [
    "df_ratings.info()"
   ]
  },
  {
   "cell_type": "markdown",
   "metadata": {},
   "source": [
    "\n",
    "\n",
    "\n",
    "### <font color=\"#AD0B0B\"> Creation of the initial dataset </font>\n",
    "<br>\n",
    "\n",
    "Since the number of titles is still high, only those titles that have received the most attention will be considered. I select titles that have received more (strictly) than 50,000 votes."
   ]
  },
  {
   "cell_type": "code",
   "execution_count": 18,
   "metadata": {},
   "outputs": [],
   "source": [
    "def filter_df_ratings(min_votes):\n",
    "    \"\"\"\n",
    "    Filters the df_ratings dataframe and returns a new dataframe in which all rows have at least min_votes\n",
    "    \"\"\"\n",
    "    return df_ratings[df_ratings['numVotes']>min_votes]\n",
    "    "
   ]
  },
  {
   "cell_type": "code",
   "execution_count": 19,
   "metadata": {},
   "outputs": [
    {
     "name": "stdout",
     "output_type": "stream",
     "text": [
      "<class 'pandas.core.frame.DataFrame'>\n",
      "Index: 4600 entries, tt0000417 to tt9906260\n",
      "Data columns (total 2 columns):\n",
      " #   Column         Non-Null Count  Dtype  \n",
      "---  ------         --------------  -----  \n",
      " 0   averageRating  4600 non-null   float64\n",
      " 1   numVotes       4600 non-null   int64  \n",
      "dtypes: float64(1), int64(1)\n",
      "memory usage: 107.8+ KB\n"
     ]
    }
   ],
   "source": [
    "df_ratings = filter_df_ratings(50000)\n",
    "df_ratings.head()\n",
    "df_ratings.info()"
   ]
  },
  {
   "cell_type": "code",
   "execution_count": 20,
   "metadata": {},
   "outputs": [],
   "source": [
    "assert df_ratings[\"numVotes\"].min() > 50000"
   ]
  },
  {
   "cell_type": "markdown",
   "metadata": {},
   "source": [
    "Once both data sets have been delimited, a single set will be created, which will be called `df_movies`, and which will contain the movies that appear in both, that is:\n",
    "\n",
    "* films made after 1927\n",
    "* have received more than 50000 votes."
   ]
  },
  {
   "cell_type": "code",
   "execution_count": 21,
   "metadata": {},
   "outputs": [
    {
     "data": {
      "text/html": [
       "<div>\n",
       "<style scoped>\n",
       "    .dataframe tbody tr th:only-of-type {\n",
       "        vertical-align: middle;\n",
       "    }\n",
       "\n",
       "    .dataframe tbody tr th {\n",
       "        vertical-align: top;\n",
       "    }\n",
       "\n",
       "    .dataframe thead th {\n",
       "        text-align: right;\n",
       "    }\n",
       "</style>\n",
       "<table border=\"1\" class=\"dataframe\">\n",
       "  <thead>\n",
       "    <tr style=\"text-align: right;\">\n",
       "      <th></th>\n",
       "      <th>year</th>\n",
       "      <th>runtimeMinutes</th>\n",
       "      <th>genres</th>\n",
       "      <th>title.original</th>\n",
       "      <th>title.primary</th>\n",
       "    </tr>\n",
       "    <tr>\n",
       "      <th>id</th>\n",
       "      <th></th>\n",
       "      <th></th>\n",
       "      <th></th>\n",
       "      <th></th>\n",
       "      <th></th>\n",
       "    </tr>\n",
       "  </thead>\n",
       "  <tbody>\n",
       "    <tr>\n",
       "      <th>tt0011715</th>\n",
       "      <td>1928</td>\n",
       "      <td>NaN</td>\n",
       "      <td>[Drama, Romance]</td>\n",
       "      <td>Sol de gloria</td>\n",
       "      <td>Sol de gloria</td>\n",
       "    </tr>\n",
       "    <tr>\n",
       "      <th>tt0016788</th>\n",
       "      <td>1928</td>\n",
       "      <td>NaN</td>\n",
       "      <td>None</td>\n",
       "      <td>O Diabo em Lisboa</td>\n",
       "      <td>O Diabo em Lisboa</td>\n",
       "    </tr>\n",
       "    <tr>\n",
       "      <th>tt0016970</th>\n",
       "      <td>1928</td>\n",
       "      <td>84.0</td>\n",
       "      <td>[Drama]</td>\n",
       "      <td>La hija del mestre</td>\n",
       "      <td>La hija del mestre</td>\n",
       "    </tr>\n",
       "    <tr>\n",
       "      <th>tt0017516</th>\n",
       "      <td>1928</td>\n",
       "      <td>NaN</td>\n",
       "      <td>None</td>\n",
       "      <td>Violantha</td>\n",
       "      <td>Violantha</td>\n",
       "    </tr>\n",
       "    <tr>\n",
       "      <th>tt0017621</th>\n",
       "      <td>1928</td>\n",
       "      <td>108.0</td>\n",
       "      <td>[Drama, Fantasy, Horror]</td>\n",
       "      <td>Alraune</td>\n",
       "      <td>A Daughter of Destiny</td>\n",
       "    </tr>\n",
       "    <tr>\n",
       "      <th>...</th>\n",
       "      <td>...</td>\n",
       "      <td>...</td>\n",
       "      <td>...</td>\n",
       "      <td>...</td>\n",
       "      <td>...</td>\n",
       "    </tr>\n",
       "    <tr>\n",
       "      <th>tt9359696</th>\n",
       "      <td>2019</td>\n",
       "      <td>NaN</td>\n",
       "      <td>[Documentary]</td>\n",
       "      <td>The Big Jump 3D</td>\n",
       "      <td>The Big Jump 3D</td>\n",
       "    </tr>\n",
       "    <tr>\n",
       "      <th>tt9359768</th>\n",
       "      <td>2019</td>\n",
       "      <td>NaN</td>\n",
       "      <td>[Comedy]</td>\n",
       "      <td>Different</td>\n",
       "      <td>Different</td>\n",
       "    </tr>\n",
       "    <tr>\n",
       "      <th>tt9359866</th>\n",
       "      <td>2019</td>\n",
       "      <td>75.0</td>\n",
       "      <td>[Drama]</td>\n",
       "      <td>Pink Hill</td>\n",
       "      <td>Pink Hill</td>\n",
       "    </tr>\n",
       "    <tr>\n",
       "      <th>tt9362620</th>\n",
       "      <td>2019</td>\n",
       "      <td>NaN</td>\n",
       "      <td>[Horror]</td>\n",
       "      <td>D.E.M.O.N.I.C. Stories</td>\n",
       "      <td>D.E.M.O.N.I.C. Stories</td>\n",
       "    </tr>\n",
       "    <tr>\n",
       "      <th>tt9363342</th>\n",
       "      <td>2019</td>\n",
       "      <td>NaN</td>\n",
       "      <td>[Thriller]</td>\n",
       "      <td>The stalker</td>\n",
       "      <td>The stalker</td>\n",
       "    </tr>\n",
       "  </tbody>\n",
       "</table>\n",
       "<p>415633 rows × 5 columns</p>\n",
       "</div>"
      ],
      "text/plain": [
       "           year  runtimeMinutes                    genres  \\\n",
       "id                                                          \n",
       "tt0011715  1928             NaN          [Drama, Romance]   \n",
       "tt0016788  1928             NaN                      None   \n",
       "tt0016970  1928            84.0                   [Drama]   \n",
       "tt0017516  1928             NaN                      None   \n",
       "tt0017621  1928           108.0  [Drama, Fantasy, Horror]   \n",
       "...         ...             ...                       ...   \n",
       "tt9359696  2019             NaN             [Documentary]   \n",
       "tt9359768  2019             NaN                  [Comedy]   \n",
       "tt9359866  2019            75.0                   [Drama]   \n",
       "tt9362620  2019             NaN                  [Horror]   \n",
       "tt9363342  2019             NaN                [Thriller]   \n",
       "\n",
       "                   title.original           title.primary  \n",
       "id                                                         \n",
       "tt0011715           Sol de gloria           Sol de gloria  \n",
       "tt0016788       O Diabo em Lisboa       O Diabo em Lisboa  \n",
       "tt0016970      La hija del mestre      La hija del mestre  \n",
       "tt0017516               Violantha               Violantha  \n",
       "tt0017621                 Alraune   A Daughter of Destiny  \n",
       "...                           ...                     ...  \n",
       "tt9359696         The Big Jump 3D         The Big Jump 3D  \n",
       "tt9359768               Different               Different  \n",
       "tt9359866               Pink Hill               Pink Hill  \n",
       "tt9362620  D.E.M.O.N.I.C. Stories  D.E.M.O.N.I.C. Stories  \n",
       "tt9363342             The stalker             The stalker  \n",
       "\n",
       "[415633 rows x 5 columns]"
      ]
     },
     "execution_count": 21,
     "metadata": {},
     "output_type": "execute_result"
    }
   ],
   "source": [
    "df_basics"
   ]
  },
  {
   "cell_type": "code",
   "execution_count": 24,
   "metadata": {},
   "outputs": [],
   "source": [
    "def join_dataframes():\n",
    "    \"\"\"\n",
    "    Joins the df_basics and df_ratings dataframes and returns the resulting dataframe\n",
    "    \"\"\"\n",
    "    return pd.merge(df_ratings, df_basics, how='left', left_index=True, right_index=True)"
   ]
  },
  {
   "cell_type": "code",
   "execution_count": 25,
   "metadata": {},
   "outputs": [
    {
     "name": "stdout",
     "output_type": "stream",
     "text": [
      "The final number of titles is 4600\n",
      "<class 'pandas.core.frame.DataFrame'>\n",
      "Index: 4600 entries, tt0000417 to tt9906260\n",
      "Data columns (total 7 columns):\n",
      " #   Column          Non-Null Count  Dtype  \n",
      "---  ------          --------------  -----  \n",
      " 0   averageRating   4600 non-null   float64\n",
      " 1   numVotes        4600 non-null   int64  \n",
      " 2   year            3681 non-null   float64\n",
      " 3   runtimeMinutes  3563 non-null   float64\n",
      " 4   genres          3681 non-null   object \n",
      " 5   title.original  3681 non-null   object \n",
      " 6   title.primary   3681 non-null   object \n",
      "dtypes: float64(3), int64(1), object(3)\n",
      "memory usage: 416.5+ KB\n"
     ]
    }
   ],
   "source": [
    "print(\"The final number of titles is {:d}\".format(len(df_ratings)))\n",
    "\n",
    "df_movies = join_dataframes()\n",
    "df_movies.info()"
   ]
  },
  {
   "cell_type": "code",
   "execution_count": 26,
   "metadata": {},
   "outputs": [],
   "source": [
    "assert set(df_movies.columns) == {\"year\", \"runtimeMinutes\", \"genres\", \"title.original\", \"title.primary\", \"averageRating\", \"numVotes\"}"
   ]
  },
  {
   "cell_type": "markdown",
   "metadata": {},
   "source": [
    "Finally, the relevant data will be kept (some discarded data will be updated later)."
   ]
  },
  {
   "cell_type": "markdown",
   "metadata": {},
   "source": [
    "Keep only the `'title.primary'`, `'genres'`, `'averageRating'`, and `'numVotes'` columns from `df_movies`. Rename them as `'title'`,`'genres'`,`'avg_rating'`, and `'num_votes`. Rename the index as `movie_id `."
   ]
  },
  {
   "cell_type": "code",
   "execution_count": 27,
   "metadata": {},
   "outputs": [],
   "source": [
    "def select_columns():\n",
    "    \"\"\"\n",
    "    Select the columns from the df_movies dataframe and return the new dataframe\n",
    "    \"\"\"\n",
    "    return df_movies.rename(columns = {'title.primary': 'title', 'averageRating': 'avg_rating', 'numVotes':'num_votes'}).rename_axis('movie_id', axis=0, inplace=False)[['title','genres','avg_rating','num_votes']]"
   ]
  },
  {
   "cell_type": "code",
   "execution_count": 28,
   "metadata": {},
   "outputs": [
    {
     "data": {
      "text/html": [
       "<div>\n",
       "<style scoped>\n",
       "    .dataframe tbody tr th:only-of-type {\n",
       "        vertical-align: middle;\n",
       "    }\n",
       "\n",
       "    .dataframe tbody tr th {\n",
       "        vertical-align: top;\n",
       "    }\n",
       "\n",
       "    .dataframe thead th {\n",
       "        text-align: right;\n",
       "    }\n",
       "</style>\n",
       "<table border=\"1\" class=\"dataframe\">\n",
       "  <thead>\n",
       "    <tr style=\"text-align: right;\">\n",
       "      <th></th>\n",
       "      <th>title</th>\n",
       "      <th>genres</th>\n",
       "      <th>avg_rating</th>\n",
       "      <th>num_votes</th>\n",
       "    </tr>\n",
       "    <tr>\n",
       "      <th>movie_id</th>\n",
       "      <th></th>\n",
       "      <th></th>\n",
       "      <th></th>\n",
       "      <th></th>\n",
       "    </tr>\n",
       "  </thead>\n",
       "  <tbody>\n",
       "    <tr>\n",
       "      <th>tt0000417</th>\n",
       "      <td>NaN</td>\n",
       "      <td>NaN</td>\n",
       "      <td>8.2</td>\n",
       "      <td>52965</td>\n",
       "    </tr>\n",
       "    <tr>\n",
       "      <th>tt0010323</th>\n",
       "      <td>NaN</td>\n",
       "      <td>NaN</td>\n",
       "      <td>8.0</td>\n",
       "      <td>67155</td>\n",
       "    </tr>\n",
       "    <tr>\n",
       "      <th>tt0012349</th>\n",
       "      <td>NaN</td>\n",
       "      <td>NaN</td>\n",
       "      <td>8.3</td>\n",
       "      <td>130459</td>\n",
       "    </tr>\n",
       "    <tr>\n",
       "      <th>tt0013442</th>\n",
       "      <td>NaN</td>\n",
       "      <td>NaN</td>\n",
       "      <td>7.9</td>\n",
       "      <td>101480</td>\n",
       "    </tr>\n",
       "    <tr>\n",
       "      <th>tt0015324</th>\n",
       "      <td>NaN</td>\n",
       "      <td>NaN</td>\n",
       "      <td>8.2</td>\n",
       "      <td>53337</td>\n",
       "    </tr>\n",
       "  </tbody>\n",
       "</table>\n",
       "</div>"
      ],
      "text/plain": [
       "          title genres  avg_rating  num_votes\n",
       "movie_id                                     \n",
       "tt0000417   NaN    NaN         8.2      52965\n",
       "tt0010323   NaN    NaN         8.0      67155\n",
       "tt0012349   NaN    NaN         8.3     130459\n",
       "tt0013442   NaN    NaN         7.9     101480\n",
       "tt0015324   NaN    NaN         8.2      53337"
      ]
     },
     "execution_count": 28,
     "metadata": {},
     "output_type": "execute_result"
    }
   ],
   "source": [
    "df_movies = select_columns()\n",
    "df_movies.head()"
   ]
  },
  {
   "cell_type": "code",
   "execution_count": 29,
   "metadata": {},
   "outputs": [],
   "source": [
    "assert set(df_movies.columns) == {\"title\", \"genres\", \"avg_rating\", \"num_votes\"}\n",
    "assert df_movies.index.name == \"movie_id\""
   ]
  },
  {
   "cell_type": "markdown",
   "metadata": {},
   "source": [
    "To illustrate some examples in the project, I will use the movie with identifier`'tt0068646'`: ___The Godfather___."
   ]
  },
  {
   "cell_type": "code",
   "execution_count": 31,
   "metadata": {},
   "outputs": [
    {
     "data": {
      "text/plain": [
       "title          The Godfather\n",
       "genres        [Crime, Drama]\n",
       "avg_rating               9.2\n",
       "num_votes            1932108\n",
       "Name: tt0068646, dtype: object"
      ]
     },
     "execution_count": 31,
     "metadata": {},
     "output_type": "execute_result"
    }
   ],
   "source": [
    "tgf_movie_id = 'tt0068646'\n",
    "df_movies.loc[tgf_movie_id]"
   ]
  },
  {
   "cell_type": "markdown",
   "metadata": {},
   "source": [
    "<a id=\"section2\"></a>\n",
    "## <font color=\"#AD0B0B\">The Movie Database (TMDb)  </font>\n",
    "\n",
    "<br>\n",
    "\n",
    "_The Movie Database ([TMDB](https://www.themoviedb.org))_ is another web resource that contains information about movies and series, and was raised as an alternative to _IMDb_. To this day, its use as a means of collecting criticism and evaluations _is practically nil_. However, it contains complete and up-to-date information about movies, and it provides a very complete REST API. In this project I will use the _TMDb_ API to extend the initial data set.\n",
    "\n",
    "The _TMDb_ API requires authentication, so to work with it it is necessary, first of all, to have a user. Once the registration on the site is done, it is necessary to request a key for the use of the API. Detailed instructions are shown on this page ([link](https://developers.themoviedb.org/3/getting-started/introduction)). This process is simple, and basically consists of 3 steps:\n",
    "\n",
    "1. Enter the personal account settings.\n",
    "2. Enter the API menu.\n",
    "3. Create the API.\n",
    "\n",
    "Later it is possible to access, within the account configuration, the section corresponding to the API. In it are several access tokens. In this project we need the first one, labeled _API Key (v3 auth)_. Copy this token and assign it to the `token` variable."
   ]
  },
  {
   "cell_type": "code",
   "execution_count": 55,
   "metadata": {},
   "outputs": [],
   "source": [
    "token = 'your_API_token'"
   ]
  },
  {
   "cell_type": "markdown",
   "metadata": {},
   "source": [
    "The _TMDb_ API is accessible via `https://api.themoviedb.org/3/`. All the _endpoints_ it provides can be found in the documentation ([link](https://developers.themoviedb.org/3/getting-started/introduction)). In addition, from this site it is possible to test the methods, and generate the calls in various languages. In the case of _Python_ two alternatives are generated. The former uses the `http.client` library, while the latter uses `requests`."
   ]
  },
  {
   "cell_type": "markdown",
   "metadata": {},
   "source": [
    "---\n",
    "\n",
    "### <font color=\"#AD0B0B\"> Obtaining information about each movie.</font>\n",
    "\n",
    "<br>\n",
    "\n",
    "The `GET /movie/{movie_id}` call allows you to get information about a movie. The `movie_id` field corresponds to the identifier of the movie, which can be _TMDb_'s own, or the identifier in _IMDb_ (which is what I have). One of the parameters it takes is `language`, which in this project will be set to `en_US`."
   ]
  },
  {
   "cell_type": "code",
   "execution_count": 33,
   "metadata": {},
   "outputs": [],
   "source": [
    "import requests\n",
    "import json\n",
    "\n",
    "language = 'en_US'\n",
    "params = {'api_key':token, 'language':language}"
   ]
  },
  {
   "cell_type": "markdown",
   "metadata": {},
   "source": [
    "Get information about the movie _The Godfather_ (whose code is `'tt0068646'` and is stored in `tgf_movie_id`)."
   ]
  },
  {
   "cell_type": "code",
   "execution_count": 34,
   "metadata": {},
   "outputs": [],
   "source": [
    "def get_one_movie(movie_id):\n",
    "    \"\"\"\n",
    "   Returns a dictionary with the movie data received as a parameter from the TMDB API\n",
    "    \"\"\"\n",
    "    return requests.get(f\"https://api.themoviedb.org/3/movie/{tgf_movie_id}\", params).json()"
   ]
  },
  {
   "cell_type": "code",
   "execution_count": 35,
   "metadata": {},
   "outputs": [
    {
     "name": "stdout",
     "output_type": "stream",
     "text": [
      "{\n",
      "   \"adult\": false,\n",
      "   \"backdrop_path\": \"/tmU7GeKVybMWFButWEGl2M4GeiP.jpg\",\n",
      "   \"belongs_to_collection\": {\n",
      "      \"id\": 230,\n",
      "      \"name\": \"The Godfather Collection\",\n",
      "      \"poster_path\": \"/e5iVtjkjM30znn86JsvkBYtvEo1.jpg\",\n",
      "      \"backdrop_path\": \"/3WZTxpgscsmoUk81TuECXdFOD0R.jpg\"\n",
      "   },\n",
      "   \"budget\": 6000000,\n",
      "   \"genres\": [\n",
      "      {\n",
      "         \"id\": 18,\n",
      "         \"name\": \"Drama\"\n",
      "      },\n",
      "      {\n",
      "         \"id\": 80,\n",
      "         \"name\": \"Crime\"\n",
      "      }\n",
      "   ],\n",
      "   \"homepage\": \"http://www.thegodfather.com/\",\n",
      "   \"id\": 238,\n",
      "   \"imdb_id\": \"tt0068646\",\n",
      "   \"original_language\": \"en\",\n",
      "   \"original_title\": \"The Godfather\",\n",
      "   \"overview\": \"Spanning the years 1945 to 1955, a chronicle of the fictional Italian-American Corleone crime family. When organized crime family patriarch, Vito Corleone barely survives an attempt on his life, his youngest son, Michael steps in to take care of the would-be killers, launching a campaign of bloody revenge.\",\n",
      "   \"popularity\": 156.311,\n",
      "   \"poster_path\": \"/3bhkrj58Vtu7enYsRolD1fZdja1.jpg\",\n",
      "   \"production_companies\": [\n",
      "      {\n",
      "         \"id\": 4,\n",
      "         \"logo_path\": \"/gz66EfNoYPqHTYI4q9UEN4CbHRc.png\",\n",
      "         \"name\": \"Paramount\",\n",
      "         \"origin_country\": \"US\"\n",
      "      },\n",
      "      {\n",
      "         \"id\": 10211,\n",
      "         \"logo_path\": null,\n",
      "         \"name\": \"Alfran Productions\",\n",
      "         \"origin_country\": \"US\"\n",
      "      }\n",
      "   ],\n",
      "   \"production_countries\": [\n",
      "      {\n",
      "         \"iso_3166_1\": \"US\",\n",
      "         \"name\": \"United States of America\"\n",
      "      }\n",
      "   ],\n",
      "   \"release_date\": \"1972-03-14\",\n",
      "   \"revenue\": 245066411,\n",
      "   \"runtime\": 175,\n",
      "   \"spoken_languages\": [\n",
      "      {\n",
      "         \"english_name\": \"English\",\n",
      "         \"iso_639_1\": \"en\",\n",
      "         \"name\": \"English\"\n",
      "      },\n",
      "      {\n",
      "         \"english_name\": \"Italian\",\n",
      "         \"iso_639_1\": \"it\",\n",
      "         \"name\": \"Italiano\"\n",
      "      },\n",
      "      {\n",
      "         \"english_name\": \"Latin\",\n",
      "         \"iso_639_1\": \"la\",\n",
      "         \"name\": \"Latin\"\n",
      "      }\n",
      "   ],\n",
      "   \"status\": \"Released\",\n",
      "   \"tagline\": \"An offer you can't refuse.\",\n",
      "   \"title\": \"The Godfather\",\n",
      "   \"video\": false,\n",
      "   \"vote_average\": 8.711,\n",
      "   \"vote_count\": 18323\n",
      "}\n"
     ]
    }
   ],
   "source": [
    "tgf_data = get_one_movie(tgf_movie_id)\n",
    "print(json.dumps(tgf_data, indent=3))"
   ]
  },
  {
   "cell_type": "code",
   "execution_count": 36,
   "metadata": {},
   "outputs": [],
   "source": [
    "assert tgf_data[\"release_date\"] == \"1972-03-14\""
   ]
  },
  {
   "cell_type": "code",
   "execution_count": 37,
   "metadata": {},
   "outputs": [
    {
     "data": {
      "image/jpeg": "[encoded data removed]",
      "text/plain": [
       "<IPython.core.display.Image object>"
      ]
     },
     "execution_count": 37,
     "metadata": {},
     "output_type": "execute_result"
    }
   ],
   "source": [
    "from IPython.display import Image\n",
    "Image('http://image.tmdb.org/t/p/w185'+tgf_data['poster_path'])"
   ]
  },
  {
   "cell_type": "markdown",
   "metadata": {},
   "source": [
    "\n",
    "Once the access to a movie's data via the _TMDb_ API has been implemented, the data related to all the movies referenced in `df_movies` will be obtained, and it will be stored in a JSON structure that will be called `movie_data`.\n",
    "\n",
    "<div class=\"alert alert-block alert-danger\">\n",
    "    \n",
    "<i class=\"fa fa-exclamation-triangle\" aria-hidden=\"true\"></i> Each API call requires approximately 0.5 seconds. Therefore, obtaining the data for all the films may require, if done sequentially, around 1500 seconds. Due to this, and in order to facilitate the development of the work in different sessions, it is convenient to store the results in a file, which will be called `data/backup/movie_data.json`. Once this file is available, in subsequent work sessions, the data will be read from here.\n",
    "</div>"
   ]
  },
  {
   "cell_type": "code",
   "execution_count": 39,
   "metadata": {},
   "outputs": [],
   "source": [
    "def get_movie_data():\n",
    "    json_data = {}\n",
    "    for idx, row in df_movies.iterrows():\n",
    "        json_data.update({idx: requests.get(f\"https://api.themoviedb.org/3/movie/{idx}\", params).json()})\n",
    "    return json_data"
   ]
  },
  {
   "cell_type": "code",
   "execution_count": 40,
   "metadata": {},
   "outputs": [
    {
     "name": "stdout",
     "output_type": "stream",
     "text": [
      "The number of titles obtained is 4390\n"
     ]
    }
   ],
   "source": [
    "import os\n",
    "\n",
    "# If the data has not been downloaded yet, it downloads and stores it in the file\n",
    "if not os.path.isfile('data/backup/movie_data.json'):\n",
    "    # Donwload the data\n",
    "    movie_data = get_movie_data()\n",
    "    \n",
    "    with open('data/backup/movie_data.json',\"w\") as movie_data_file:\n",
    "        json.dump(movie_data, movie_data_file)    \n",
    "        \n",
    "# If they were previously downloaded, and the file is available, it reads them.\n",
    "else:\n",
    "    with open('data/backup/movie_data.json','r') as movie_data_file:\n",
    "        movie_data = json.load(movie_data_file)\n",
    "    \n",
    "    \n",
    "print(\"The number of titles obtained is {:d}\".format(len(movie_data)))"
   ]
  },
  {
   "cell_type": "code",
   "execution_count": 41,
   "metadata": {},
   "outputs": [],
   "source": [
    "assert movie_data[tgf_movie_id][\"release_date\"] == \"1972-03-14\""
   ]
  },
  {
   "cell_type": "markdown",
   "metadata": {},
   "source": [
    "---\n",
    "\n",
    "### <font color=\"#00586D\"> Adding information to the data set.</font>\n",
    "\n",
    "<br>\n",
    "\n",
    "Once the data relative to each movie has been obtained and stored in the `movie_data` structure, the relevant information must be incorporated into the _DataFrame_ `df_movies`. Specifically, columns will be created that contain, for each movie, the following fields (the types to be used are given in parentheses):\n",
    "\n",
    "* `budget (integer)`, which corresponds to the budget,\n",
    "* `revenue (integer)`, which corresponds to the earnings,\n",
    "* `release_date(TimeStamp)`, which corresponds to the release date,\n",
    "* `original_language(String)`, which corresponds to the original language,\n",
    "* `popularity (float)`, which corresponds to the popularity."
   ]
  },
  {
   "cell_type": "code",
   "execution_count": 42,
   "metadata": {},
   "outputs": [],
   "source": [
    "def extend_df_movies():\n",
    "    \"\"\"\n",
    "    Add the budget, revenue, release_date, original_language, and popularity columns to the df_movies dataframe and return the resulting dataframe\n",
    "    \"\"\"\n",
    "    \n",
    "    return df_movies.join(pd.DataFrame.from_dict(movie_data, orient='index').rename_axis('movie_id', axis=0, inplace=False)[['budget','revenue','release_date','original_language','popularity','poster_path']], on='movie_id', how='left').astype({'budget':'Int64', 'revenue':'Int64', 'release_date':'datetime64',\"original_language\": \"string\",\"popularity\":\"float64\"})"
   ]
  },
  {
   "cell_type": "code",
   "execution_count": 43,
   "metadata": {},
   "outputs": [
    {
     "data": {
      "text/html": [
       "<div>\n",
       "<style scoped>\n",
       "    .dataframe tbody tr th:only-of-type {\n",
       "        vertical-align: middle;\n",
       "    }\n",
       "\n",
       "    .dataframe tbody tr th {\n",
       "        vertical-align: top;\n",
       "    }\n",
       "\n",
       "    .dataframe thead th {\n",
       "        text-align: right;\n",
       "    }\n",
       "</style>\n",
       "<table border=\"1\" class=\"dataframe\">\n",
       "  <thead>\n",
       "    <tr style=\"text-align: right;\">\n",
       "      <th></th>\n",
       "      <th>title</th>\n",
       "      <th>genres</th>\n",
       "      <th>avg_rating</th>\n",
       "      <th>num_votes</th>\n",
       "      <th>budget</th>\n",
       "      <th>revenue</th>\n",
       "      <th>release_date</th>\n",
       "      <th>original_language</th>\n",
       "      <th>popularity</th>\n",
       "      <th>poster_path</th>\n",
       "    </tr>\n",
       "    <tr>\n",
       "      <th>movie_id</th>\n",
       "      <th></th>\n",
       "      <th></th>\n",
       "      <th></th>\n",
       "      <th></th>\n",
       "      <th></th>\n",
       "      <th></th>\n",
       "      <th></th>\n",
       "      <th></th>\n",
       "      <th></th>\n",
       "      <th></th>\n",
       "    </tr>\n",
       "  </thead>\n",
       "  <tbody>\n",
       "    <tr>\n",
       "      <th>tt0000417</th>\n",
       "      <td>NaN</td>\n",
       "      <td>NaN</td>\n",
       "      <td>8.2</td>\n",
       "      <td>52965</td>\n",
       "      <td>5985</td>\n",
       "      <td>0</td>\n",
       "      <td>1902-04-17</td>\n",
       "      <td>fr</td>\n",
       "      <td>13.328</td>\n",
       "      <td>/9o0v5LLFk51nyTBHZSre6OB37n2.jpg</td>\n",
       "    </tr>\n",
       "    <tr>\n",
       "      <th>tt0010323</th>\n",
       "      <td>NaN</td>\n",
       "      <td>NaN</td>\n",
       "      <td>8.0</td>\n",
       "      <td>67155</td>\n",
       "      <td>18000</td>\n",
       "      <td>8811</td>\n",
       "      <td>1920-02-27</td>\n",
       "      <td>de</td>\n",
       "      <td>10.906</td>\n",
       "      <td>/myK9DeIsXWGKgUTZyGXg2IfFk0W.jpg</td>\n",
       "    </tr>\n",
       "    <tr>\n",
       "      <th>tt0012349</th>\n",
       "      <td>NaN</td>\n",
       "      <td>NaN</td>\n",
       "      <td>8.3</td>\n",
       "      <td>130459</td>\n",
       "      <td>250000</td>\n",
       "      <td>2500000</td>\n",
       "      <td>1921-01-21</td>\n",
       "      <td>en</td>\n",
       "      <td>14.097</td>\n",
       "      <td>/drgMcyTsySQBnUPGaBThCHGdlWT.jpg</td>\n",
       "    </tr>\n",
       "    <tr>\n",
       "      <th>tt0013442</th>\n",
       "      <td>NaN</td>\n",
       "      <td>NaN</td>\n",
       "      <td>7.9</td>\n",
       "      <td>101480</td>\n",
       "      <td>0</td>\n",
       "      <td>19054</td>\n",
       "      <td>1922-02-16</td>\n",
       "      <td>de</td>\n",
       "      <td>14.557</td>\n",
       "      <td>/zx24O7VAs6NbJhiIrUhWysAiHS0.jpg</td>\n",
       "    </tr>\n",
       "    <tr>\n",
       "      <th>tt0015324</th>\n",
       "      <td>NaN</td>\n",
       "      <td>NaN</td>\n",
       "      <td>8.2</td>\n",
       "      <td>53337</td>\n",
       "      <td>0</td>\n",
       "      <td>0</td>\n",
       "      <td>1924-04-17</td>\n",
       "      <td>en</td>\n",
       "      <td>10.295</td>\n",
       "      <td>/1G9r3rqtbFAQuyWKOZm4Y5J5s7Q.jpg</td>\n",
       "    </tr>\n",
       "  </tbody>\n",
       "</table>\n",
       "</div>"
      ],
      "text/plain": [
       "          title genres  avg_rating  num_votes  budget  revenue release_date  \\\n",
       "movie_id                                                                      \n",
       "tt0000417   NaN    NaN         8.2      52965    5985        0   1902-04-17   \n",
       "tt0010323   NaN    NaN         8.0      67155   18000     8811   1920-02-27   \n",
       "tt0012349   NaN    NaN         8.3     130459  250000  2500000   1921-01-21   \n",
       "tt0013442   NaN    NaN         7.9     101480       0    19054   1922-02-16   \n",
       "tt0015324   NaN    NaN         8.2      53337       0        0   1924-04-17   \n",
       "\n",
       "          original_language  popularity                       poster_path  \n",
       "movie_id                                                                   \n",
       "tt0000417                fr      13.328  /9o0v5LLFk51nyTBHZSre6OB37n2.jpg  \n",
       "tt0010323                de      10.906  /myK9DeIsXWGKgUTZyGXg2IfFk0W.jpg  \n",
       "tt0012349                en      14.097  /drgMcyTsySQBnUPGaBThCHGdlWT.jpg  \n",
       "tt0013442                de      14.557  /zx24O7VAs6NbJhiIrUhWysAiHS0.jpg  \n",
       "tt0015324                en      10.295  /1G9r3rqtbFAQuyWKOZm4Y5J5s7Q.jpg  "
      ]
     },
     "execution_count": 43,
     "metadata": {},
     "output_type": "execute_result"
    }
   ],
   "source": [
    "df_movies = extend_df_movies()\n",
    "df_movies.head()"
   ]
  },
  {
   "cell_type": "code",
   "execution_count": 44,
   "metadata": {},
   "outputs": [
    {
     "name": "stdout",
     "output_type": "stream",
     "text": [
      "<class 'pandas.core.frame.DataFrame'>\n",
      "Index: 4600 entries, tt0000417 to tt9906260\n",
      "Data columns (total 10 columns):\n",
      " #   Column             Non-Null Count  Dtype         \n",
      "---  ------             --------------  -----         \n",
      " 0   title              3681 non-null   object        \n",
      " 1   genres             3681 non-null   object        \n",
      " 2   avg_rating         4600 non-null   float64       \n",
      " 3   num_votes          4600 non-null   int64         \n",
      " 4   budget             3867 non-null   Int64         \n",
      " 5   revenue            3867 non-null   Int64         \n",
      " 6   release_date       3867 non-null   datetime64[ns]\n",
      " 7   original_language  3867 non-null   string        \n",
      " 8   popularity         3867 non-null   float64       \n",
      " 9   poster_path        3867 non-null   object        \n",
      "dtypes: Int64(2), datetime64[ns](1), float64(2), int64(1), object(3), string(1)\n",
      "memory usage: 533.3+ KB\n"
     ]
    }
   ],
   "source": [
    "assert set(df_movies.columns) == {\"title\", \"genres\", \"avg_rating\", \"num_votes\", \"budget\", \"revenue\", \"release_date\", \"original_language\", \"popularity\", \"poster_path\"}\n",
    "df_movies.info()"
   ]
  },
  {
   "cell_type": "markdown",
   "metadata": {},
   "source": [
    "### <font color=\"#AD0B0B\">Key words</font>\n",
    "\n",
    "<br>\n",
    "\n",
    "The call `https://api.themoviedb.org/3/movie/'+movie_id+'/keywords` returns the keywords corresponding to the movie with identifier `movie_id`. "
   ]
  },
  {
   "cell_type": "markdown",
   "metadata": {},
   "source": [
    "Get and display the keywords for the movie _The Godfather_ (the code is stored in the `tgf_movie_id` variable)."
   ]
  },
  {
   "cell_type": "code",
   "execution_count": 45,
   "metadata": {},
   "outputs": [],
   "source": [
    "def get_one_movie_keywords(movie_id):\n",
    "    \"\"\"\n",
    "    Returns the keywords with the data of the movie received as a parameter of the TMDB API\n",
    "    \"\"\"\n",
    "    return requests.get(f\"https://api.themoviedb.org/3/movie/{tgf_movie_id}/keywords\", params).json()"
   ]
  },
  {
   "cell_type": "code",
   "execution_count": 46,
   "metadata": {},
   "outputs": [
    {
     "name": "stdout",
     "output_type": "stream",
     "text": [
      "{\n",
      "   \"id\": 238,\n",
      "   \"keywords\": [\n",
      "      {\n",
      "         \"id\": 131,\n",
      "         \"name\": \"italy\"\n",
      "      },\n",
      "      {\n",
      "         \"id\": 697,\n",
      "         \"name\": \"loss of loved one\"\n",
      "      },\n",
      "      {\n",
      "         \"id\": 699,\n",
      "         \"name\": \"love at first sight\"\n",
      "      },\n",
      "      {\n",
      "         \"id\": 818,\n",
      "         \"name\": \"based on novel or book\"\n",
      "      },\n",
      "      {\n",
      "         \"id\": 1295,\n",
      "         \"name\": \"europe\"\n",
      "      },\n",
      "      {\n",
      "         \"id\": 1715,\n",
      "         \"name\": \"symbolism\"\n",
      "      },\n",
      "      {\n",
      "         \"id\": 4677,\n",
      "         \"name\": \"patriarch\"\n",
      "      },\n",
      "      {\n",
      "         \"id\": 10291,\n",
      "         \"name\": \"organized crime\"\n",
      "      },\n",
      "      {\n",
      "         \"id\": 10391,\n",
      "         \"name\": \"mafia\"\n",
      "      },\n",
      "      {\n",
      "         \"id\": 10909,\n",
      "         \"name\": \"lawyer\"\n",
      "      },\n",
      "      {\n",
      "         \"id\": 11001,\n",
      "         \"name\": \"religion\"\n",
      "      },\n",
      "      {\n",
      "         \"id\": 15095,\n",
      "         \"name\": \"revenge motive\"\n",
      "      },\n",
      "      {\n",
      "         \"id\": 33421,\n",
      "         \"name\": \"crime family\"\n",
      "      },\n",
      "      {\n",
      "         \"id\": 155538,\n",
      "         \"name\": \"sicilian mafia\"\n",
      "      },\n",
      "      {\n",
      "         \"id\": 156043,\n",
      "         \"name\": \"religious hypocrisy\"\n",
      "      },\n",
      "      {\n",
      "         \"id\": 163656,\n",
      "         \"name\": \"gun violence\"\n",
      "      },\n",
      "      {\n",
      "         \"id\": 165725,\n",
      "         \"name\": \"rise to power\"\n",
      "      },\n",
      "      {\n",
      "         \"id\": 180173,\n",
      "         \"name\": \"dead horse\"\n",
      "      },\n",
      "      {\n",
      "         \"id\": 181858,\n",
      "         \"name\": \"gang violence\"\n",
      "      },\n",
      "      {\n",
      "         \"id\": 207883,\n",
      "         \"name\": \"1940s\"\n",
      "      },\n",
      "      {\n",
      "         \"id\": 208611,\n",
      "         \"name\": \"1950s\"\n",
      "      },\n",
      "      {\n",
      "         \"id\": 257630,\n",
      "         \"name\": \"mafia war\"\n",
      "      }\n",
      "   ]\n",
      "}\n"
     ]
    }
   ],
   "source": [
    "tgf_data = get_one_movie_keywords(tgf_movie_id)\n",
    "\n",
    "print(json.dumps(tgf_data,indent=3))"
   ]
  },
  {
   "cell_type": "code",
   "execution_count": 47,
   "metadata": {},
   "outputs": [],
   "source": [
    "assert any([keyword[\"name\"] == \"mafia\" for keyword in tgf_data[\"keywords\"]])"
   ]
  },
  {
   "cell_type": "markdown",
   "metadata": {},
   "source": [
    "Get the keywords for each of the movies and store them in a JSON object named `keywords_data`."
   ]
  },
  {
   "cell_type": "code",
   "execution_count": 48,
   "metadata": {},
   "outputs": [],
   "source": [
    "def get_keywords_data():\n",
    "    \"\"\"\n",
    "    Gets and returns the keywords_data structure\n",
    "    \"\"\"\n",
    "    json_keywords = {}\n",
    "    for idx, row in df_movies.iterrows():\n",
    "        json_keywords.update({idx: requests.get(f\"https://api.themoviedb.org/3/movie/{idx}/keywords\", params).json()})\n",
    "    return json_keywords"
   ]
  },
  {
   "cell_type": "code",
   "execution_count": 49,
   "metadata": {},
   "outputs": [
    {
     "name": "stdout",
     "output_type": "stream",
     "text": [
      "The number of titles obtained is 4390\n"
     ]
    }
   ],
   "source": [
    "if not os.path.isfile('data/backup/keywords_data.json'):\n",
    "    keywords_data = get_keywords_data()\n",
    "    \n",
    "    with open('data/backup/keywords_data.json',\"w\") as keywords_data_file:\n",
    "        json.dump(keywords_data, keywords_data_file)    \n",
    "        \n",
    "# If they were previously downloaded, it reads them.\n",
    "else:\n",
    "    with open('data/backup/keywords_data.json','r') as keywords_data_file:\n",
    "        keywords_data = json.load(keywords_data_file)   \n",
    "        \n",
    "print(\"The number of titles obtained is {:d}\".format(len(keywords_data)))        "
   ]
  },
  {
   "cell_type": "code",
   "execution_count": 50,
   "metadata": {},
   "outputs": [],
   "source": [
    "assert any([keyword[\"name\"] == \"mafia\" for keyword in keywords_data[tgf_movie_id][\"keywords\"]])"
   ]
  },
  {
   "cell_type": "markdown",
   "metadata": {},
   "source": [
    "The format in which the keywords are returned for each movie has several levels. It is a dictionary with a field called `keywords` that contains the list of keywords. Each one represented, in turn, by a dictionary of interest in the `name` field."
   ]
  },
  {
   "cell_type": "markdown",
   "metadata": {},
   "source": [
    "Add to `df_movies` a column, called `keywords` that contains the list of keywords for each movie. This data will be obtained from `keywords_data`."
   ]
  },
  {
   "cell_type": "code",
   "execution_count": 51,
   "metadata": {},
   "outputs": [],
   "source": [
    "def get_keywords_serie():\n",
    "    \"\"\"\n",
    "    Gets and returns the keywords data string\n",
    "    \"\"\"\n",
    "    s_keywords = pd.Series(data='', index=df_movies.index)\n",
    "    for index in df_movies.index:\n",
    "        if str(keywords_data.get(index)).find('id')>0:\n",
    "            for kw in keywords_data[index]['keywords']:\n",
    "                if s_keywords[index] == \"\":\n",
    "                    s_keywords[index]=kw['name']\n",
    "                else:\n",
    "                    s_keywords[index]=s_keywords[index]+\", \"+kw['name']\n",
    "    for movie in s_keywords.index:\n",
    "        s_keywords[movie]=s_keywords[movie].split(', ')\n",
    "    return s_keywords"
   ]
  },
  {
   "cell_type": "code",
   "execution_count": 52,
   "metadata": {},
   "outputs": [
    {
     "data": {
      "text/html": [
       "<div>\n",
       "<style scoped>\n",
       "    .dataframe tbody tr th:only-of-type {\n",
       "        vertical-align: middle;\n",
       "    }\n",
       "\n",
       "    .dataframe tbody tr th {\n",
       "        vertical-align: top;\n",
       "    }\n",
       "\n",
       "    .dataframe thead th {\n",
       "        text-align: right;\n",
       "    }\n",
       "</style>\n",
       "<table border=\"1\" class=\"dataframe\">\n",
       "  <thead>\n",
       "    <tr style=\"text-align: right;\">\n",
       "      <th></th>\n",
       "      <th>title</th>\n",
       "      <th>genres</th>\n",
       "      <th>avg_rating</th>\n",
       "      <th>num_votes</th>\n",
       "      <th>budget</th>\n",
       "      <th>revenue</th>\n",
       "      <th>release_date</th>\n",
       "      <th>original_language</th>\n",
       "      <th>popularity</th>\n",
       "      <th>poster_path</th>\n",
       "      <th>keywords</th>\n",
       "    </tr>\n",
       "    <tr>\n",
       "      <th>movie_id</th>\n",
       "      <th></th>\n",
       "      <th></th>\n",
       "      <th></th>\n",
       "      <th></th>\n",
       "      <th></th>\n",
       "      <th></th>\n",
       "      <th></th>\n",
       "      <th></th>\n",
       "      <th></th>\n",
       "      <th></th>\n",
       "      <th></th>\n",
       "    </tr>\n",
       "  </thead>\n",
       "  <tbody>\n",
       "    <tr>\n",
       "      <th>tt0000417</th>\n",
       "      <td>NaN</td>\n",
       "      <td>NaN</td>\n",
       "      <td>8.2</td>\n",
       "      <td>52965</td>\n",
       "      <td>5985</td>\n",
       "      <td>0</td>\n",
       "      <td>1902-04-17</td>\n",
       "      <td>fr</td>\n",
       "      <td>13.328</td>\n",
       "      <td>/9o0v5LLFk51nyTBHZSre6OB37n2.jpg</td>\n",
       "      <td>[moon, based on novel or book, satire, astrono...</td>\n",
       "    </tr>\n",
       "    <tr>\n",
       "      <th>tt0010323</th>\n",
       "      <td>NaN</td>\n",
       "      <td>NaN</td>\n",
       "      <td>8.0</td>\n",
       "      <td>67155</td>\n",
       "      <td>18000</td>\n",
       "      <td>8811</td>\n",
       "      <td>1920-02-27</td>\n",
       "      <td>de</td>\n",
       "      <td>10.906</td>\n",
       "      <td>/myK9DeIsXWGKgUTZyGXg2IfFk0W.jpg</td>\n",
       "      <td>[insane asylum, silent film, unreliable narrat...</td>\n",
       "    </tr>\n",
       "    <tr>\n",
       "      <th>tt0012349</th>\n",
       "      <td>NaN</td>\n",
       "      <td>NaN</td>\n",
       "      <td>8.3</td>\n",
       "      <td>130459</td>\n",
       "      <td>250000</td>\n",
       "      <td>2500000</td>\n",
       "      <td>1921-01-21</td>\n",
       "      <td>en</td>\n",
       "      <td>14.097</td>\n",
       "      <td>/drgMcyTsySQBnUPGaBThCHGdlWT.jpg</td>\n",
       "      <td>[angel, suicide attempt, fistfight, slapstick ...</td>\n",
       "    </tr>\n",
       "    <tr>\n",
       "      <th>tt0013442</th>\n",
       "      <td>NaN</td>\n",
       "      <td>NaN</td>\n",
       "      <td>7.9</td>\n",
       "      <td>101480</td>\n",
       "      <td>0</td>\n",
       "      <td>19054</td>\n",
       "      <td>1922-02-16</td>\n",
       "      <td>de</td>\n",
       "      <td>14.557</td>\n",
       "      <td>/zx24O7VAs6NbJhiIrUhWysAiHS0.jpg</td>\n",
       "      <td>[germany, transylvania, loss of loved one, sha...</td>\n",
       "    </tr>\n",
       "    <tr>\n",
       "      <th>tt0015324</th>\n",
       "      <td>NaN</td>\n",
       "      <td>NaN</td>\n",
       "      <td>8.2</td>\n",
       "      <td>53337</td>\n",
       "      <td>0</td>\n",
       "      <td>0</td>\n",
       "      <td>1924-04-17</td>\n",
       "      <td>en</td>\n",
       "      <td>10.295</td>\n",
       "      <td>/1G9r3rqtbFAQuyWKOZm4Y5J5s7Q.jpg</td>\n",
       "      <td>[amateur detective, pickpocket, slapstick come...</td>\n",
       "    </tr>\n",
       "  </tbody>\n",
       "</table>\n",
       "</div>"
      ],
      "text/plain": [
       "          title genres  avg_rating  num_votes  budget  revenue release_date  \\\n",
       "movie_id                                                                      \n",
       "tt0000417   NaN    NaN         8.2      52965    5985        0   1902-04-17   \n",
       "tt0010323   NaN    NaN         8.0      67155   18000     8811   1920-02-27   \n",
       "tt0012349   NaN    NaN         8.3     130459  250000  2500000   1921-01-21   \n",
       "tt0013442   NaN    NaN         7.9     101480       0    19054   1922-02-16   \n",
       "tt0015324   NaN    NaN         8.2      53337       0        0   1924-04-17   \n",
       "\n",
       "          original_language  popularity                       poster_path  \\\n",
       "movie_id                                                                    \n",
       "tt0000417                fr      13.328  /9o0v5LLFk51nyTBHZSre6OB37n2.jpg   \n",
       "tt0010323                de      10.906  /myK9DeIsXWGKgUTZyGXg2IfFk0W.jpg   \n",
       "tt0012349                en      14.097  /drgMcyTsySQBnUPGaBThCHGdlWT.jpg   \n",
       "tt0013442                de      14.557  /zx24O7VAs6NbJhiIrUhWysAiHS0.jpg   \n",
       "tt0015324                en      10.295  /1G9r3rqtbFAQuyWKOZm4Y5J5s7Q.jpg   \n",
       "\n",
       "                                                    keywords  \n",
       "movie_id                                                      \n",
       "tt0000417  [moon, based on novel or book, satire, astrono...  \n",
       "tt0010323  [insane asylum, silent film, unreliable narrat...  \n",
       "tt0012349  [angel, suicide attempt, fistfight, slapstick ...  \n",
       "tt0013442  [germany, transylvania, loss of loved one, sha...  \n",
       "tt0015324  [amateur detective, pickpocket, slapstick come...  "
      ]
     },
     "execution_count": 52,
     "metadata": {},
     "output_type": "execute_result"
    }
   ],
   "source": [
    "df_movies['keywords'] = get_keywords_serie()\n",
    "df_movies.head()"
   ]
  },
  {
   "cell_type": "code",
   "execution_count": 53,
   "metadata": {},
   "outputs": [],
   "source": [
    "assert 'mafia' in df_movies.loc[tgf_movie_id].keywords"
   ]
  },
  {
   "cell_type": "markdown",
   "metadata": {},
   "source": [
    "\n",
    "\n",
    "<a id=\"section4\"></a>\n",
    "## <font color=\"#AD0B0B\"> MongoDB </font>\n",
    "\n",
    "<br>\n",
    "\n",
    "Next, I am going to store the result of the entire extraction process in a format in which I\n",
    "can persist and consult the data in a comfortable way, such as mongoDB."
   ]
  },
  {
   "cell_type": "code",
   "execution_count": 56,
   "metadata": {},
   "outputs": [],
   "source": [
    "import pymongo\n",
    "import ssl"
   ]
  },
  {
   "cell_type": "markdown",
   "metadata": {},
   "source": [
    "I create a mongodb cluster in Mongodb Atlas and open a connection using pymongo. Then I create a database called `search_engine` and inside it a collection called `movies`."
   ]
  },
  {
   "cell_type": "code",
   "execution_count": 57,
   "metadata": {},
   "outputs": [],
   "source": [
    "def create_mongodb_connection():\n",
    "    \"\"\"\n",
    "    Establishes the connection to the Mongodb Atlas cluster\n",
    "    \"\"\"\n",
    "    return pymongo.MongoClient(\"your_mongodb_cluster\")"
   ]
  },
  {
   "cell_type": "code",
   "execution_count": 58,
   "metadata": {},
   "outputs": [],
   "source": [
    "mongoClient = create_mongodb_connection()\n",
    "\n",
    "db = mongoClient.search_engine\n",
    "movies = db.movies"
   ]
  },
  {
   "cell_type": "markdown",
   "metadata": {},
   "source": [
    "Inserts the contents of the `df_movies` database into the mongo collection. To do this I must export the data to a dictionary using the `to_dict` function."
   ]
  },
  {
   "cell_type": "code",
   "execution_count": 59,
   "metadata": {},
   "outputs": [],
   "source": [
    "def insert_data():\n",
    "    \"\"\"\n",
    "    Insert the data into Mongodb\n",
    "    \"\"\"\n",
    "    movies.insert_many(df_movies.fillna({'title': '---', 'genres': '---', 'budget': 0,'revenue': 0, 'release_date': '---', 'original_language': '---', 'popularity': 0, 'poster_path': '---'}).reset_index().to_dict(orient=\"records\"))"
   ]
  },
  {
   "cell_type": "code",
   "execution_count": 60,
   "metadata": {},
   "outputs": [],
   "source": [
    "insert_data()\n",
    "assert movies.estimated_document_count() > 0"
   ]
  },
  {
   "cell_type": "markdown",
   "metadata": {},
   "source": [
    "Let's try to do a very simple search. I try to find the movies with a rating higher than 9:"
   ]
  },
  {
   "cell_type": "code",
   "execution_count": 61,
   "metadata": {},
   "outputs": [],
   "source": [
    "def get_movies_by_rating(rating):\n",
    "\n",
    "    return movies.find({ \n",
    "    \"avg_rating\": { \"$gt\": rating } \n",
    "    })"
   ]
  },
  {
   "cell_type": "code",
   "execution_count": 62,
   "metadata": {},
   "outputs": [
    {
     "name": "stdout",
     "output_type": "stream",
     "text": [
      "---\n",
      "The Godfather\n",
      "The Shawshank Redemption\n",
      "---\n",
      "---\n",
      "---\n",
      "---\n",
      "---\n",
      "---\n",
      "---\n"
     ]
    }
   ],
   "source": [
    "cursor = get_movies_by_rating(9)\n",
    "\n",
    "for m in cursor[0:10]:\n",
    "    print(m[\"title\"])"
   ]
  },
  {
   "cell_type": "markdown",
   "metadata": {},
   "source": [
    "Now I search the movies whose genre is `Action`"
   ]
  },
  {
   "cell_type": "code",
   "execution_count": 63,
   "metadata": {},
   "outputs": [],
   "source": [
    "def get_movies_by_genre(genre):\n",
    "    \"\"\"\n",
    "    Gets the movies of the genre received as a parameter\n",
    "    \"\"\"\n",
    "    return movies.find({ \n",
    "    \"genres\": { \"$eq\": genre } \n",
    "    })"
   ]
  },
  {
   "cell_type": "code",
   "execution_count": 64,
   "metadata": {},
   "outputs": [
    {
     "name": "stdout",
     "output_type": "stream",
     "text": [
      "The Adventures of Robin Hood\n",
      "High Noon\n",
      "Forbidden Planet\n",
      "Rio Bravo\n",
      "The Magnificent Seven\n",
      "The Guns of Navarone\n",
      "Yojimbo\n",
      "Dr. No\n",
      "Harakiri\n",
      "The Longest Day\n"
     ]
    }
   ],
   "source": [
    "cursor = get_movies_by_genre(\"Action\")\n",
    "\n",
    "for m in cursor[0:10]:\n",
    "    print(m[\"title\"])"
   ]
  },
  {
   "cell_type": "markdown",
   "metadata": {},
   "source": [
    "I create a function that:\n",
    "\n",
    "- Receive user input with a comma-separated list of keywords\n",
    "- Convert the content to a keyword list (use split)\n",
    "- Search mongoDB for movies that contain those keywords\n",
    "- Extract the first 20 covers\n",
    "- Print the covers using the Image utility"
   ]
  },
  {
   "cell_type": "code",
   "execution_count": 65,
   "metadata": {},
   "outputs": [],
   "source": [
    "from IPython.display import Image, display"
   ]
  },
  {
   "cell_type": "code",
   "execution_count": 66,
   "metadata": {},
   "outputs": [],
   "source": [
    "def movies_by_keywords(keywords):\n",
    "    keywords_list = keywords.split(',')\n",
    "    cursor = movies.find({ \"keywords\": { \"$in\": keywords_list } })\n",
    "    for m in cursor[0:20]:\n",
    "        display(Image('http://image.tmdb.org/t/p/w185'+m[\"poster_path\"]))"
   ]
  },
  {
   "cell_type": "code",
   "execution_count": 67,
   "metadata": {},
   "outputs": [
    {
     "data": {
      "image/jpeg": "[encoded data removed]",
      "text/plain": [
       "<IPython.core.display.Image object>"
      ]
     },
     "metadata": {},
     "output_type": "display_data"
    },
    {
     "data": {
      "image/jpeg": "[encoded data removed]",
      "text/plain": [
       "<IPython.core.display.Image object>"
      ]
     },
     "metadata": {},
     "output_type": "display_data"
    },
    {
     "data": {
      "image/jpeg": "[encoded data removed]",
      "text/plain": [
       "<IPython.core.display.Image object>"
      ]
     },
     "metadata": {},
     "output_type": "display_data"
    },
    {
     "data": {
      "image/jpeg": "[encoded data removed]",
      "text/plain": [
       "<IPython.core.display.Image object>"
      ]
     },
     "metadata": {},
     "output_type": "display_data"
    },
    {
     "data": {
      "image/jpeg": "[encoded data removed]",
      "text/plain": [
       "<IPython.core.display.Image object>"
      ]
     },
     "metadata": {},
     "output_type": "display_data"
    },
    {
     "data": {
      "image/jpeg": "[encoded data removed]",
      "text/plain": [
       "<IPython.core.display.Image object>"
      ]
     },
     "metadata": {},
     "output_type": "display_data"
    },
    {
     "data": {
      "image/jpeg": "[encoded data removed]",
      "text/plain": [
       "<IPython.core.display.Image object>"
      ]
     },
     "metadata": {},
     "output_type": "display_data"
    },
    {
     "data": {
      "image/jpeg": "[encoded data removed]",
      "text/plain": [
       "<IPython.core.display.Image object>"
      ]
     },
     "metadata": {},
     "output_type": "display_data"
    },
    {
     "data": {
      "image/jpeg": "[encoded data removed]",
      "text/plain": [
       "<IPython.core.display.Image object>"
      ]
     },
     "metadata": {},
     "output_type": "display_data"
    },
    {
     "data": {
      "image/jpeg": "[encoded data removed]",
      "text/plain": [
       "<IPython.core.display.Image object>"
      ]
     },
     "metadata": {},
     "output_type": "display_data"
    },
    {
     "data": {
      "image/jpeg": "[encoded data removed]",
      "text/plain": [
       "<IPython.core.display.Image object>"
      ]
     },
     "metadata": {},
     "output_type": "display_data"
    },
    {
     "data": {
      "image/jpeg": "[encoded data removed]",
      "text/plain": [
       "<IPython.core.display.Image object>"
      ]
     },
     "metadata": {},
     "output_type": "display_data"
    },
    {
     "data": {
      "image/jpeg": "[encoded data removed]",
      "text/plain": [
       "<IPython.core.display.Image object>"
      ]
     },
     "metadata": {},
     "output_type": "display_data"
    },
    {
     "data": {
      "image/jpeg": "[encoded data removed]",
      "text/plain": [
       "<IPython.core.display.Image object>"
      ]
     },
     "metadata": {},
     "output_type": "display_data"
    },
    {
     "data": {
      "image/jpeg": "[encoded data removed]",
      "text/plain": [
       "<IPython.core.display.Image object>"
      ]
     },
     "metadata": {},
     "output_type": "display_data"
    },
    {
     "data": {
      "image/jpeg": "[encoded data removed]",
      "text/plain": [
       "<IPython.core.display.Image object>"
      ]
     },
     "metadata": {},
     "output_type": "display_data"
    },
    {
     "data": {
      "image/jpeg": "[encoded data removed]",
      "text/plain": [
       "<IPython.core.display.Image object>"
      ]
     },
     "metadata": {},
     "output_type": "display_data"
    },
    {
     "data": {
      "image/jpeg": "[encoded data removed]",
      "text/plain": [
       "<IPython.core.display.Image object>"
      ]
     },
     "metadata": {},
     "output_type": "display_data"
    },
    {
     "data": {
      "image/jpeg": "[encoded data removed]",
      "text/plain": [
       "<IPython.core.display.Image object>"
      ]
     },
     "metadata": {},
     "output_type": "display_data"
    },
    {
     "data": {
      "image/jpeg": "[encoded data removed]",
      "text/plain": [
       "<IPython.core.display.Image object>"
      ]
     },
     "metadata": {},
     "output_type": "display_data"
    }
   ],
   "source": [
    "movies_by_keywords(\"war,love\")"
   ]
  },
  {
   "cell_type": "code",
   "execution_count": null,
   "metadata": {},
   "outputs": [],
   "source": []
  }
 ],
 "metadata": {
  "kernelspec": {
   "display_name": "Python 3 (ipykernel)",
   "language": "python",
   "name": "python3"
  },
  "language_info": {
   "codemirror_mode": {
    "name": "ipython",
    "version": 3
   },
   "file_extension": ".py",
   "mimetype": "text/x-python",
   "name": "python",
   "nbconvert_exporter": "python",
   "pygments_lexer": "ipython3",
   "version": "3.10.7"
  }
 },
 "nbformat": 4,
 "nbformat_minor": 4
}
